{
 "cells": [
  {
   "cell_type": "code",
   "execution_count": 11,
   "id": "8b401616-9fbd-4fe1-84df-2a10564ab965",
   "metadata": {},
   "outputs": [
    {
     "name": "stdout",
     "output_type": "stream",
     "text": [
      "Digite os elementos da matriz 5x5:\n"
     ]
    },
    {
     "name": "stdin",
     "output_type": "stream",
     "text": [
      "Digite os 5 elementos da linha 1 (separados por espaço):  1 2 3 4 5 \n",
      "Digite os 5 elementos da linha 2 (separados por espaço):  1 2 3 4 5 \n",
      "Digite os 5 elementos da linha 3 (separados por espaço):  1 2 3 4 5 \n",
      "Digite os 5 elementos da linha 4 (separados por espaço):  1 2 3 4 5 \n",
      "Digite os 5 elementos da linha 5 (separados por espaço):  1 2 3 4 5 \n"
     ]
    },
    {
     "name": "stdout",
     "output_type": "stream",
     "text": [
      "\n",
      "Resultados das somas:\n",
      "Soma da linha 3: 15\n",
      "Soma da coluna 2: 10\n",
      "Soma da diagonal principal: 15\n",
      "Soma da diagonal secundária: 15\n",
      "Soma de todos os elementos da matriz: 75\n"
     ]
    }
   ],
   "source": [
    "def main():\n",
    "    M = []\n",
    "    print(\"Digite os elementos da matriz 5x5:\")\n",
    "    for i in range(5):\n",
    "        linha = list(map(int, input(f\"Digite os 5 elementos da linha {i+1} (separados por espaço): \").split()))\n",
    "        M.append(linha)\n",
    "    \n",
    "    soma_linha_3 = sum(M[2])\n",
    "    soma_coluna_2 = sum(M[i][1] for i in range(5))\n",
    "    soma_diag_principal = sum(M[i][i] for i in range(5))\n",
    "    soma_diag_secundaria = sum(M[i][4 - i] for i in range(5))\n",
    "    soma_total = sum(sum(linha) for linha in M)\n",
    "    \n",
    "    print(\"\\nResultados das somas:\")\n",
    "    print(f\"Soma da linha 3: {soma_linha_3}\")\n",
    "    print(f\"Soma da coluna 2: {soma_coluna_2}\")\n",
    "    print(f\"Soma da diagonal principal: {soma_diag_principal}\")\n",
    "    print(f\"Soma da diagonal secundária: {soma_diag_secundaria}\")\n",
    "    print(f\"Soma de todos os elementos da matriz: {soma_total}\")\n",
    "\n",
    "if __name__ == \"__main__\":\n",
    "    main()\n"
   ]
  },
  {
   "cell_type": "code",
   "execution_count": 12,
   "id": "0ac9fb8a-ac12-4488-a5a9-1a34aefd6c77",
   "metadata": {},
   "outputs": [
    {
     "name": "stdout",
     "output_type": "stream",
     "text": [
      "Digite os elementos da matriz A (4x6):\n"
     ]
    },
    {
     "name": "stdin",
     "output_type": "stream",
     "text": [
      "Digite os 6 elementos da linha 1 de A (separados por espaço):  1 2 3 4 5 6\n",
      "Digite os 6 elementos da linha 2 de A (separados por espaço):  1 2 3 4 5 6\n",
      "Digite os 6 elementos da linha 3 de A (separados por espaço):  1 2 3 4 5 6\n",
      "Digite os 6 elementos da linha 4 de A (separados por espaço):  1 2 3 4 5 6\n"
     ]
    },
    {
     "name": "stdout",
     "output_type": "stream",
     "text": [
      "Digite os elementos da matriz B (4x6):\n"
     ]
    },
    {
     "name": "stdin",
     "output_type": "stream",
     "text": [
      "Digite os 6 elementos da linha 1 de B (separados por espaço):  1 2 3 4 5 6\n",
      "Digite os 6 elementos da linha 2 de B (separados por espaço):  1 2 3 4 5 6\n",
      "Digite os 6 elementos da linha 3 de B (separados por espaço):  1 2 3 4 5 6\n",
      "Digite os 6 elementos da linha 4 de B (separados por espaço):  1 2 3 4 5 6\n"
     ]
    },
    {
     "name": "stdout",
     "output_type": "stream",
     "text": [
      "\n",
      "Matriz S (Soma de A e B):\n",
      "[2, 4, 6, 8, 10, 12]\n",
      "[2, 4, 6, 8, 10, 12]\n",
      "[2, 4, 6, 8, 10, 12]\n",
      "[2, 4, 6, 8, 10, 12]\n",
      "\n",
      "Matriz D (Diferença de A e B):\n",
      "[0, 0, 0, 0, 0, 0]\n",
      "[0, 0, 0, 0, 0, 0]\n",
      "[0, 0, 0, 0, 0, 0]\n",
      "[0, 0, 0, 0, 0, 0]\n"
     ]
    }
   ],
   "source": [
    "def main():\n",
    "    A = []\n",
    "    B = []\n",
    "    \n",
    "    print(\"Digite os elementos da matriz A (4x6):\")\n",
    "    for i in range(4):\n",
    "        linha = list(map(int, input(f\"Digite os 6 elementos da linha {i+1} de A (separados por espaço): \").split()))\n",
    "        A.append(linha)\n",
    "    \n",
    "    print(\"Digite os elementos da matriz B (4x6):\")\n",
    "    for i in range(4):\n",
    "        linha = list(map(int, input(f\"Digite os 6 elementos da linha {i+1} de B (separados por espaço): \").split()))\n",
    "        B.append(linha)\n",
    "    \n",
    "    S = [[A[i][j] + B[i][j] for j in range(6)] for i in range(4)]\n",
    "    D = [[A[i][j] - B[i][j] for j in range(6)] for i in range(4)]\n",
    "    \n",
    "    print(\"\\nMatriz S (Soma de A e B):\")\n",
    "    for linha in S:\n",
    "        print(linha)\n",
    "    \n",
    "    print(\"\\nMatriz D (Diferença de A e B):\")\n",
    "    for linha in D:\n",
    "        print(linha)\n",
    "\n",
    "if __name__ == \"__main__\":\n",
    "    main()\n"
   ]
  },
  {
   "cell_type": "code",
   "execution_count": 19,
   "id": "9208e761-29ba-46a1-aa8b-9bd113343039",
   "metadata": {},
   "outputs": [
    {
     "name": "stdout",
     "output_type": "stream",
     "text": [
      "Digite os elementos da matriz A (4x4):\n"
     ]
    },
    {
     "name": "stdin",
     "output_type": "stream",
     "text": [
      "Digite os 4 elementos da linha 1 de A (separados por espaço):  1 2 3 4 \n",
      "Digite os 4 elementos da linha 2 de A (separados por espaço):  1 2 3 4\n",
      "Digite os 4 elementos da linha 3 de A (separados por espaço):  1 2 3 4\n",
      "Digite os 4 elementos da linha 4 de A (separados por espaço):  1 2 3 4\n"
     ]
    },
    {
     "name": "stdout",
     "output_type": "stream",
     "text": [
      "Soma dos elementos com X: 6\n"
     ]
    }
   ],
   "source": [
    "def main():\n",
    "    A = []\n",
    "    \n",
    "    print(\"Digite os elementos da matriz A (4x4):\")\n",
    "    for i in range(4):\n",
    "        linha = list(map(int, input(f\"Digite os 4 elementos da linha {i+1} de A (separados por espaço): \").split()))\n",
    "        A.append(linha)\n",
    "    \n",
    "    soma_X = 0\n",
    "    \n",
    "    for i in range(4):\n",
    "        if i == 0 or i == 1:\n",
    "            soma_X += A[i][0] + A[i][1]\n",
    "        if i == 4 or i == 5:\n",
    "            soma_X += A[i][2] + A[i][3]\n",
    "        if i == 6:\n",
    "            soma_X += A[i][0]\n",
    "        if i == 7:\n",
    "            soma_X += A[i][0] + A[i][1]\n",
    "        if i == 9:\n",
    "            soma_X += A[i][0] + A[i][1] + A[i][2]\n",
    "        if i == 10:\n",
    "            soma_X += A[i][0] + A[i][1] + A[i][2] + A[i][3]\n",
    "        if i == 11:\n",
    "            soma_X += A[i][1]\n",
    "        if i == 12:\n",
    "            soma_X += A[i][2]\n",
    "    \n",
    "    print(f\"Soma dos elementos com X: {soma_X}\")\n",
    "\n",
    "if __name__ == \"__main__\":\n",
    "    main()"
   ]
  },
  {
   "cell_type": "code",
   "execution_count": 20,
   "id": "bb264f6c-c238-4885-bb09-01a2dad08740",
   "metadata": {},
   "outputs": [
    {
     "name": "stdout",
     "output_type": "stream",
     "text": [
      "Digite os elementos da matriz D (5x5):\n"
     ]
    },
    {
     "name": "stdin",
     "output_type": "stream",
     "text": [
      "Digite os 5 elementos da linha 1 de D (separados por espaço):  1 2 3 4 5\n",
      "Digite os 5 elementos da linha 2 de D (separados por espaço):  1 2 3 4 5\n",
      "Digite os 5 elementos da linha 3 de D (separados por espaço):  1 2 3 4 5\n",
      "Digite os 5 elementos da linha 4 de D (separados por espaço):  1 2 3 4 5\n",
      "Digite os 5 elementos da linha 5 de D (separados por espaço):  1 2 3 4 5\n",
      "Digite o valor de X para buscar na matriz:  3\n"
     ]
    },
    {
     "name": "stdout",
     "output_type": "stream",
     "text": [
      "O valor 3 existe na matriz.\n"
     ]
    }
   ],
   "source": [
    "def main():\n",
    "    D = []\n",
    "    \n",
    "    print(\"Digite os elementos da matriz D (5x5):\")\n",
    "    for i in range(5):\n",
    "        linha = list(map(int, input(f\"Digite os 5 elementos da linha {i+1} de D (separados por espaço): \").split()))\n",
    "        D.append(linha)\n",
    "    \n",
    "    X = int(input(\"Digite o valor de X para buscar na matriz: \"))\n",
    "    \n",
    "    found = False\n",
    "    for i in range(5):\n",
    "        if X in D[i]:\n",
    "            found = True\n",
    "            break\n",
    "    \n",
    "    if found:\n",
    "        print(f\"O valor {X} existe na matriz.\")\n",
    "    else:\n",
    "        print(f\"O valor {X} NÃO existe na matriz.\")\n",
    "\n",
    "if __name__ == \"__main__\":\n",
    "    main()"
   ]
  },
  {
   "cell_type": "code",
   "execution_count": 21,
   "id": "b19dfd70-3ce5-41b4-82d2-a01c6afc54d8",
   "metadata": {},
   "outputs": [
    {
     "name": "stdout",
     "output_type": "stream",
     "text": [
      "Digite os elementos da matriz G (5x5):\n"
     ]
    },
    {
     "name": "stdin",
     "output_type": "stream",
     "text": [
      "Digite os 5 elementos da linha 1 de G (separados por espaço):  1 2 3 4 5\n",
      "Digite os 5 elementos da linha 2 de G (separados por espaço):  1 2 3 4 5\n",
      "Digite os 5 elementos da linha 3 de G (separados por espaço):  1 2 3 4 5\n",
      "Digite os 5 elementos da linha 4 de G (separados por espaço):  1 2 3 4 5\n",
      "Digite os 5 elementos da linha 5 de G (separados por espaço):  1 2 3 4 5\n"
     ]
    },
    {
     "name": "stdout",
     "output_type": "stream",
     "text": [
      "\n",
      "Vetor SL (Somas das linhas):\n",
      "[15, 15, 15, 15, 15]\n",
      "\n",
      "Vetor SC (Somas das colunas):\n",
      "[5, 10, 15, 20, 25]\n"
     ]
    }
   ],
   "source": [
    "def main():\n",
    "    G = []\n",
    "    SL = [0] * 5\n",
    "    SC = [0] * 5\n",
    "    \n",
    "    print(\"Digite os elementos da matriz G (5x5):\")\n",
    "    for i in range(5):\n",
    "        linha = list(map(int, input(f\"Digite os 5 elementos da linha {i+1} de G (separados por espaço): \").split()))\n",
    "        G.append(linha)\n",
    "    \n",
    "    for i in range(5):\n",
    "        SL[i] = sum(G[i])  # Soma dos elementos da linha i\n",
    "    \n",
    "    for j in range(5):\n",
    "        SC[j] = sum(G[i][j] for i in range(5))  # Soma dos elementos da coluna j\n",
    "    \n",
    "    print(\"\\nVetor SL (Somas das linhas):\")\n",
    "    print(SL)\n",
    "    \n",
    "    print(\"\\nVetor SC (Somas das colunas):\")\n",
    "    print(SC)\n",
    "\n",
    "if __name__ == \"__main__\":\n",
    "    main()"
   ]
  },
  {
   "cell_type": "code",
   "execution_count": 22,
   "id": "d3df748f-c41b-4104-9cda-e9cb7da63c2e",
   "metadata": {},
   "outputs": [
    {
     "name": "stdout",
     "output_type": "stream",
     "text": [
      "Digite os elementos da matriz A (12x13):\n"
     ]
    },
    {
     "name": "stdin",
     "output_type": "stream",
     "text": [
      "Digite os 13 elementos da linha 1 de A (separados por espaço):  1 2 3 4 5 6 7 8 9 10 11 12 13\n",
      "Digite os 13 elementos da linha 2 de A (separados por espaço):  1 2 3 4 5 6 7 8 9 10 11 12 13\n",
      "Digite os 13 elementos da linha 3 de A (separados por espaço):  1 2 3 4 5 6 7 8 9 10 11 12 13\n",
      "Digite os 13 elementos da linha 4 de A (separados por espaço):  1 2 3 4 5 6 7 8 9 10 11 12 13\n",
      "Digite os 13 elementos da linha 5 de A (separados por espaço):  1 2 3 4 5 6 7 8 9 10 11 12 13\n",
      "Digite os 13 elementos da linha 6 de A (separados por espaço):  1 2 3 4 5 6 7 8 9 10 11 12 13\n",
      "Digite os 13 elementos da linha 7 de A (separados por espaço):  1 2 3 4 5 6 7 8 9 10 11 12 13\n",
      "Digite os 13 elementos da linha 8 de A (separados por espaço):  1 2 3 4 5 6 7 8 9 10 11 12 13\n",
      "Digite os 13 elementos da linha 9 de A (separados por espaço):  1 2 3 4 5 6 7 8 9 10 11 12 13\n",
      "Digite os 13 elementos da linha 10 de A (separados por espaço):  1 2 3 4 5 6 7 8 9 10 11 12 13\n",
      "Digite os 13 elementos da linha 11 de A (separados por espaço):  1 2 3 4 5 6 7 8 9 10 11 12 13\n",
      "Digite os 13 elementos da linha 12 de A (separados por espaço):  1 2 3 4 5 6 7 8 9 10 11 12 13\n"
     ]
    },
    {
     "name": "stdout",
     "output_type": "stream",
     "text": [
      "\n",
      "Matriz A modificada:\n",
      "[0.07692307692307693, 0.15384615384615385, 0.23076923076923078, 0.3076923076923077, 0.38461538461538464, 0.46153846153846156, 0.5384615384615384, 0.6153846153846154, 0.6923076923076923, 0.7692307692307693, 0.8461538461538461, 0.9230769230769231, 1.0]\n",
      "[0.07692307692307693, 0.15384615384615385, 0.23076923076923078, 0.3076923076923077, 0.38461538461538464, 0.46153846153846156, 0.5384615384615384, 0.6153846153846154, 0.6923076923076923, 0.7692307692307693, 0.8461538461538461, 0.9230769230769231, 1.0]\n",
      "[0.07692307692307693, 0.15384615384615385, 0.23076923076923078, 0.3076923076923077, 0.38461538461538464, 0.46153846153846156, 0.5384615384615384, 0.6153846153846154, 0.6923076923076923, 0.7692307692307693, 0.8461538461538461, 0.9230769230769231, 1.0]\n",
      "[0.07692307692307693, 0.15384615384615385, 0.23076923076923078, 0.3076923076923077, 0.38461538461538464, 0.46153846153846156, 0.5384615384615384, 0.6153846153846154, 0.6923076923076923, 0.7692307692307693, 0.8461538461538461, 0.9230769230769231, 1.0]\n",
      "[0.07692307692307693, 0.15384615384615385, 0.23076923076923078, 0.3076923076923077, 0.38461538461538464, 0.46153846153846156, 0.5384615384615384, 0.6153846153846154, 0.6923076923076923, 0.7692307692307693, 0.8461538461538461, 0.9230769230769231, 1.0]\n",
      "[0.07692307692307693, 0.15384615384615385, 0.23076923076923078, 0.3076923076923077, 0.38461538461538464, 0.46153846153846156, 0.5384615384615384, 0.6153846153846154, 0.6923076923076923, 0.7692307692307693, 0.8461538461538461, 0.9230769230769231, 1.0]\n",
      "[0.07692307692307693, 0.15384615384615385, 0.23076923076923078, 0.3076923076923077, 0.38461538461538464, 0.46153846153846156, 0.5384615384615384, 0.6153846153846154, 0.6923076923076923, 0.7692307692307693, 0.8461538461538461, 0.9230769230769231, 1.0]\n",
      "[0.07692307692307693, 0.15384615384615385, 0.23076923076923078, 0.3076923076923077, 0.38461538461538464, 0.46153846153846156, 0.5384615384615384, 0.6153846153846154, 0.6923076923076923, 0.7692307692307693, 0.8461538461538461, 0.9230769230769231, 1.0]\n",
      "[0.07692307692307693, 0.15384615384615385, 0.23076923076923078, 0.3076923076923077, 0.38461538461538464, 0.46153846153846156, 0.5384615384615384, 0.6153846153846154, 0.6923076923076923, 0.7692307692307693, 0.8461538461538461, 0.9230769230769231, 1.0]\n",
      "[0.07692307692307693, 0.15384615384615385, 0.23076923076923078, 0.3076923076923077, 0.38461538461538464, 0.46153846153846156, 0.5384615384615384, 0.6153846153846154, 0.6923076923076923, 0.7692307692307693, 0.8461538461538461, 0.9230769230769231, 1.0]\n",
      "[0.07692307692307693, 0.15384615384615385, 0.23076923076923078, 0.3076923076923077, 0.38461538461538464, 0.46153846153846156, 0.5384615384615384, 0.6153846153846154, 0.6923076923076923, 0.7692307692307693, 0.8461538461538461, 0.9230769230769231, 1.0]\n",
      "[0.07692307692307693, 0.15384615384615385, 0.23076923076923078, 0.3076923076923077, 0.38461538461538464, 0.46153846153846156, 0.5384615384615384, 0.6153846153846154, 0.6923076923076923, 0.7692307692307693, 0.8461538461538461, 0.9230769230769231, 1.0]\n"
     ]
    }
   ],
   "source": [
    "def main():\n",
    "    A = []\n",
    "    \n",
    "    print(\"Digite os elementos da matriz A (12x13):\")\n",
    "    for i in range(12):\n",
    "        linha = list(map(int, input(f\"Digite os 13 elementos da linha {i+1} de A (separados por espaço): \").split()))\n",
    "        A.append(linha)\n",
    "    \n",
    "    for i in range(12):\n",
    "        maior = max(A[i])  # Encontrar o maior elemento da linha i\n",
    "        A[i] = [x / maior for x in A[i]]  # Dividir todos os elementos da linha pelo maior\n",
    "    \n",
    "    print(\"\\nMatriz A modificada:\")\n",
    "    for linha in A:\n",
    "        print(linha)\n",
    "\n",
    "if __name__ == \"__main__\":\n",
    "    main()"
   ]
  },
  {
   "cell_type": "code",
   "execution_count": 25,
   "id": "38f321cb-07a7-458e-b566-9b546a8b1c82",
   "metadata": {},
   "outputs": [
    {
     "name": "stdout",
     "output_type": "stream",
     "text": [
      "Digite os 13 elementos do vetor G que representam o gabarito da loteria esportiva:\n"
     ]
    },
    {
     "name": "stdin",
     "output_type": "stream",
     "text": [
      "Digite o valor para o elemento 1:  1\n",
      "Digite o valor para o elemento 2:  2\n",
      "Digite o valor para o elemento 3:  3\n",
      "Digite o valor para o elemento 4:  4\n"
     ]
    },
    {
     "name": "stdout",
     "output_type": "stream",
     "text": [
      "Valor inválido. Digite apenas 1, 2 ou 3.\n"
     ]
    },
    {
     "name": "stdin",
     "output_type": "stream",
     "text": [
      "Digite o valor para o elemento 4:  3\n",
      "Digite o valor para o elemento 5:  2\n",
      "Digite o valor para o elemento 6:  1\n",
      "Digite o valor para o elemento 7:  2\n",
      "Digite o valor para o elemento 8:  3\n",
      "Digite o valor para o elemento 9:  2\n",
      "Digite o valor para o elemento 10:  1\n",
      "Digite o valor para o elemento 11:  2\n",
      "Digite o valor para o elemento 12:  3\n",
      "Digite o valor para o elemento 13:  2\n"
     ]
    },
    {
     "name": "stdout",
     "output_type": "stream",
     "text": [
      "\n",
      "Vetor G (gabarito da loteria esportiva):\n",
      "[1, 2, 3, 3, 2, 1, 2, 3, 2, 1, 2, 3, 2]\n"
     ]
    }
   ],
   "source": [
    "def main():\n",
    "    G = []\n",
    "\n",
    "    print(\"Digite os 13 elementos do vetor G que representam o gabarito da loteria esportiva:\")\n",
    "    for i in range(13):\n",
    "        valor = int(input(f\"Digite o valor para o elemento {i+1}: \"))\n",
    "        while valor not in [1, 2, 3]:\n",
    "            print(\"Valor inválido. Digite apenas 1, 2 ou 3.\")\n",
    "            valor = int(input(f\"Digite o valor para o elemento {i+1}: \"))\n",
    "        G.append(valor)\n",
    "\n",
    "    print(\"\\nVetor G (gabarito da loteria esportiva):\")\n",
    "    print(G)\n",
    "\n",
    "if __name__ == \"__main__\":\n",
    "    main()"
   ]
  },
  {
   "cell_type": "code",
   "execution_count": 32,
   "id": "ca532c2b-f884-476e-ba83-cb4c55362f3a",
   "metadata": {},
   "outputs": [
    {
     "name": "stdout",
     "output_type": "stream",
     "text": [
      "Digite os 13 elementos do vetor G (gabarito da loteria esportiva):\n"
     ]
    },
    {
     "name": "stdin",
     "output_type": "stream",
     "text": [
      "Digite o valor para o elemento 1:  1\n",
      "Digite o valor para o elemento 2:  1\n",
      "Digite o valor para o elemento 3:  1\n",
      "Digite o valor para o elemento 4:  1\n",
      "Digite o valor para o elemento 5:  1\n",
      "Digite o valor para o elemento 6:  1\n",
      "Digite o valor para o elemento 7:  2\n",
      "Digite o valor para o elemento 8:  3\n",
      "Digite o valor para o elemento 9:  3\n",
      "Digite o valor para o elemento 10:  2\n",
      "Digite o valor para o elemento 11:  3\n",
      "Digite o valor para o elemento 12:  2\n",
      "Digite o valor para o elemento 13:  1\n"
     ]
    },
    {
     "name": "stdout",
     "output_type": "stream",
     "text": [
      "\n",
      "Digite a matriz 13x3 representando as apostas do jogador (1 para apostado, 0 caso contrário):\n"
     ]
    },
    {
     "name": "stdin",
     "output_type": "stream",
     "text": [
      "Digite os 3 elementos da linha 1 (separados por espaço):  1 0 1\n",
      "Digite os 3 elementos da linha 2 (separados por espaço):   1 0 1\n",
      "Digite os 3 elementos da linha 3 (separados por espaço):   1 0 1\n",
      "Digite os 3 elementos da linha 4 (separados por espaço):   1 0 1\n",
      "Digite os 3 elementos da linha 5 (separados por espaço):   1 0 1\n",
      "Digite os 3 elementos da linha 6 (separados por espaço):   1 0 1\n",
      "Digite os 3 elementos da linha 7 (separados por espaço):   1 0 1\n",
      "Digite os 3 elementos da linha 8 (separados por espaço):   1 0 1\n",
      "Digite os 3 elementos da linha 9 (separados por espaço):   1 0 1\n",
      "Digite os 3 elementos da linha 10 (separados por espaço):   1 0 1\n",
      "Digite os 3 elementos da linha 11 (separados por espaço):   1 0 1\n",
      "Digite os 3 elementos da linha 12 (separados por espaço):   1 0 1\n",
      "Digite os 3 elementos da linha 13 (separados por espaço):   1 0 1\n"
     ]
    },
    {
     "name": "stdout",
     "output_type": "stream",
     "text": [
      "\n",
      "Número de pontos obtidos: 10\n",
      "Número de apostas simples: 0\n",
      "Número de apostas duplas: 13\n",
      "Número de apostas triplas: 0\n"
     ]
    }
   ],
   "source": [
    "def main():\n",
    "    G = []\n",
    "    print(\"Digite os 13 elementos do vetor G (gabarito da loteria esportiva):\")\n",
    "    for i in range(13):\n",
    "        valor = int(input(f\"Digite o valor para o elemento {i+1}: \"))\n",
    "        while valor not in [1, 2, 3]:\n",
    "            print(\"Valor inválido. Digite apenas 1, 2 ou 3.\")\n",
    "            valor = int(input(f\"Digite o valor para o elemento {i+1}: \"))\n",
    "        G.append(valor)\n",
    "    \n",
    "    A = []\n",
    "    print(\"\\nDigite a matriz 13x3 representando as apostas do jogador (1 para apostado, 0 caso contrário):\")\n",
    "    for i in range(13):\n",
    "        linha = list(map(int, input(f\"Digite os 3 elementos da linha {i+1} (separados por espaço): \").split()))\n",
    "        while len(linha) != 3 or any(x not in [0, 1] for x in linha):\n",
    "            print(\"Entrada inválida. Digite 3 números (0 ou 1) para cada linha.\")\n",
    "            linha = list(map(int, input(f\"Digite os 3 elementos da linha {i+1} (separados por espaço): \").split()))\n",
    "        A.append(linha)\n",
    "    \n",
    "    pontos = 0\n",
    "    for i in range(13):\n",
    "        for j in range(3):\n",
    "            if G[i] == j + 1 and A[i][j] == 1:\n",
    "                pontos += 1\n",
    "    \n",
    "    simples = 0\n",
    "    dupla = 0\n",
    "    tripla = 0\n",
    "    for i in range(13):\n",
    "        apostas = sum(A[i])\n",
    "        if apostas == 1:\n",
    "            simples += 1\n",
    "        elif apostas == 2:\n",
    "            dupla += 1\n",
    "        elif apostas == 3:\n",
    "            \n",
    "            tripla += 1\n",
    "    \n",
    "    print(f\"\\nNúmero de pontos obtidos: {pontos}\")\n",
    "    print(f\"Número de apostas simples: {simples}\")\n",
    "    print(f\"Número de apostas duplas: {dupla}\")\n",
    "    print(f\"Número de apostas triplas: {tripla}\")\n",
    "\n",
    "if __name__ == \"__main__\":\n",
    "    main()"
   ]
  },
  {
   "cell_type": "code",
   "execution_count": 33,
   "id": "185bc82b-58d2-43c2-bebe-e2866091e750",
   "metadata": {},
   "outputs": [
    {
     "name": "stdout",
     "output_type": "stream",
     "text": [
      "Selecione a operação desejada:\n",
      "1 - Soma\n",
      "2 - Subtração\n",
      "3 - Multiplicação\n",
      "4 - Divisão\n"
     ]
    },
    {
     "name": "stdin",
     "output_type": "stream",
     "text": [
      "Digite o número da operação (1/2/3/4):  1\n",
      "Digite o primeiro valor:  1\n",
      "Digite o segundo valor:  2\n"
     ]
    },
    {
     "name": "stdout",
     "output_type": "stream",
     "text": [
      "Resultado: 3.0\n"
     ]
    }
   ],
   "source": [
    "def somar(a, b):\n",
    "    return a + b\n",
    "\n",
    "def subtrair(a, b):\n",
    "    return a - b\n",
    "\n",
    "def multiplicar(a, b):\n",
    "    return a * b\n",
    "\n",
    "def dividir(a, b):\n",
    "    if b == 0:\n",
    "        return \"Erro! Divisão por zero.\"\n",
    "    return a / b\n",
    "\n",
    "def calcular():\n",
    "    print(\"Selecione a operação desejada:\")\n",
    "    print(\"1 - Soma\")\n",
    "    print(\"2 - Subtração\")\n",
    "    print(\"3 - Multiplicação\")\n",
    "    print(\"4 - Divisão\")\n",
    "    \n",
    "    operacao = int(input(\"Digite o número da operação (1/2/3/4): \"))\n",
    "    \n",
    "    if operacao not in [1, 2, 3, 4]:\n",
    "        print(\"Operação inválida!\")\n",
    "        return\n",
    "    \n",
    "    a = float(input(\"Digite o primeiro valor: \"))\n",
    "    b = float(input(\"Digite o segundo valor: \"))\n",
    "    \n",
    "    if operacao == 1:\n",
    "        resultado = somar(a, b)\n",
    "    elif operacao == 2:\n",
    "        resultado = subtrair(a, b)\n",
    "    elif operacao == 3:\n",
    "        resultado = multiplicar(a, b)\n",
    "    elif operacao == 4:\n",
    "        resultado = dividir(a, b)\n",
    "    \n",
    "    print(f\"Resultado: {resultado}\")\n",
    "\n",
    "if __name__ == \"__main__\":\n",
    "    calcular()"
   ]
  },
  {
   "cell_type": "code",
   "execution_count": 34,
   "id": "8179a35c-650b-411c-9734-b7a84a2ba1d1",
   "metadata": {},
   "outputs": [
    {
     "name": "stdout",
     "output_type": "stream",
     "text": [
      "Selecione a operação desejada:\n",
      "1 - Soma\n",
      "2 - Subtração\n",
      "3 - Multiplicação (com somas repetidas)\n",
      "4 - Divisão\n"
     ]
    },
    {
     "name": "stdin",
     "output_type": "stream",
     "text": [
      "Digite o número da operação (1/2/3/4):  3\n",
      "Digite o primeiro valor:  1\n",
      "Digite o segundo valor:  2\n"
     ]
    },
    {
     "name": "stdout",
     "output_type": "stream",
     "text": [
      "Resultado: 2.0\n"
     ]
    }
   ],
   "source": [
    "def somar(a, b):\n",
    "    return a + b\n",
    "\n",
    "def subtrair(a, b):\n",
    "    return a - b\n",
    "\n",
    "def multiplicar(a, b):\n",
    "    resultado = 0\n",
    "    for _ in range(abs(int(b))):\n",
    "        resultado = somar(resultado, a)\n",
    "    if b < 0:\n",
    "        resultado = -resultado\n",
    "    return resultado\n",
    "\n",
    "def dividir(a, b):\n",
    "    if b == 0:\n",
    "        return \"Erro! Divisão por zero.\"\n",
    "    return a / b\n",
    "\n",
    "def calcular():\n",
    "    print(\"Selecione a operação desejada:\")\n",
    "    print(\"1 - Soma\")\n",
    "    print(\"2 - Subtração\")\n",
    "    print(\"3 - Multiplicação (com somas repetidas)\")\n",
    "    print(\"4 - Divisão\")\n",
    "    \n",
    "    operacao = int(input(\"Digite o número da operação (1/2/3/4): \"))\n",
    "    \n",
    "    if operacao not in [1, 2, 3, 4]:\n",
    "        print(\"Operação inválida!\")\n",
    "        return\n",
    "    \n",
    "    a = float(input(\"Digite o primeiro valor: \"))\n",
    "    b = float(input(\"Digite o segundo valor: \"))\n",
    "    \n",
    "    if operacao == 1:\n",
    "        resultado = somar(a, b)\n",
    "    elif operacao == 2:\n",
    "        resultado = subtrair(a, b)\n",
    "    elif operacao == 3:\n",
    "        resultado = multiplicar(a, b)\n",
    "    elif operacao == 4:\n",
    "        resultado = dividir(a, )\n",
    "    \n",
    "    print(f\"Resultado: {resultado}\")\n",
    "\n",
    "if __name__ == \"__main__\":\n",
    "    calcular()"
   ]
  },
  {
   "cell_type": "code",
   "execution_count": 35,
   "id": "57118abb-7f56-4d26-ae07-3ee53e79fa3f",
   "metadata": {},
   "outputs": [
    {
     "name": "stdin",
     "output_type": "stream",
     "text": [
      "Digite a distância percorrida (em metros):  12\n",
      "Digite o tempo gasto (em segundos):  400\n"
     ]
    },
    {
     "name": "stdout",
     "output_type": "stream",
     "text": [
      "A velocidade média é: 0.03 metros por segundo\n"
     ]
    }
   ],
   "source": [
    "def velocidade_media(distancia, tempo):\n",
    "    if tempo <= 0:\n",
    "        return \"Erro: O tempo não pode ser zero ou negativo.\"\n",
    "    return distancia / tempo\n",
    "\n",
    "# Testando a função\n",
    "distancia = float(input(\"Digite a distância percorrida (em metros): \"))\n",
    "tempo = float(input(\"Digite o tempo gasto (em segundos): \"))\n",
    "\n",
    "resultado = velocidade_media(distancia, tempo)\n",
    "print(f\"A velocidade média é: {resultado} metros por segundo\")"
   ]
  },
  {
   "cell_type": "code",
   "execution_count": 36,
   "id": "5d3a5362-f557-40bf-967f-2fb095c550db",
   "metadata": {},
   "outputs": [
    {
     "name": "stdin",
     "output_type": "stream",
     "text": [
      "Digite a distância percorrida (em metros):  12\n",
      "Digite o tempo gasto (em segundos):  900\n"
     ]
    },
    {
     "name": "stdout",
     "output_type": "stream",
     "text": [
      "A velocidade média é: 0.013333333333333334 metros por segundo\n"
     ]
    }
   ],
   "source": [
    "def divisao(a, b):\n",
    "    if b == 0:\n",
    "        return \"Erro: Divisão por zero não permitida.\"\n",
    "    return a / b\n",
    "\n",
    "def velocidade_media(distancia, tempo):\n",
    "    if tempo <= 0:\n",
    "        return \"Erro: O tempo não pode ser zero ou negativo.\"\n",
    "    return divisao(distancia, tempo)\n",
    "\n",
    "# Testando a função\n",
    "distancia = float(input(\"Digite a distância percorrida (em metros): \"))\n",
    "tempo = float(input(\"Digite o tempo gasto (em segundos): \"))\n",
    "\n",
    "resultado = velocidade_media(distancia, tempo)\n",
    "print(f\"A velocidade média é: {resultado} metros por segundo\")"
   ]
  },
  {
   "cell_type": "code",
   "execution_count": 37,
   "id": "2e52f895-acef-4f06-8c76-7f6782a4a0c9",
   "metadata": {},
   "outputs": [
    {
     "name": "stdin",
     "output_type": "stream",
     "text": [
      "Digite os números separados por espaço:  1 2 3\n"
     ]
    },
    {
     "name": "stdout",
     "output_type": "stream",
     "text": [
      "Ordem crescente: [1, 2, 3]\n",
      "Ordem decrescente: [3, 2, 1]\n",
      "Ordem reversa: [3, 2, 1]\n"
     ]
    }
   ],
   "source": [
    "def organizar_numeros(numeros):\n",
    "    crescente = sorted(numeros)  # Organiza em ordem crescente\n",
    "    decrescente = sorted(numeros, reverse=True)  # Organiza em ordem decrescente\n",
    "    reverso = numeros[::-1]  # Organiza em ordem reversa (inverte a lista)\n",
    "    \n",
    "    return crescente, decrescente, reverso\n",
    "\n",
    "def main():\n",
    "    # Lê os números do usuário\n",
    "    numeros = list(map(int, input(\"Digite os números separados por espaço: \").split()))\n",
    "    \n",
    "    crescente, decrescente, reverso = organizar_numeros(numeros)\n",
    "    \n",
    "    print(\"Ordem crescente:\", crescente)\n",
    "    print(\"Ordem decrescente:\", decrescente)\n",
    "    print(\"Ordem reversa:\", reverso)\n",
    "\n",
    "if __name__ == \"__main__\":\n",
    "    main()"
   ]
  },
  {
   "cell_type": "code",
   "execution_count": 38,
   "id": "e6b89282-a894-4f7b-8c40-d22ac7ac65b7",
   "metadata": {},
   "outputs": [
    {
     "name": "stdin",
     "output_type": "stream",
     "text": [
      "Digite a hora em formato 24h (0-23):  23\n",
      "Digite os minutos (0-59):  32\n"
     ]
    },
    {
     "name": "stdout",
     "output_type": "stream",
     "text": [
      "11:32 P.M.\n"
     ]
    },
    {
     "name": "stdin",
     "output_type": "stream",
     "text": [
      "Deseja converter outro horário? (s/n):  n\n"
     ]
    }
   ],
   "source": [
    "def converter_para_12h(hora_24, minuto_24):\n",
    "    if hora_24 == 0:\n",
    "        hora_12 = 12\n",
    "        periodo = 'A'\n",
    "    elif hora_24 == 12:\n",
    "        hora_12 = 12\n",
    "        periodo = 'P'\n",
    "    elif hora_24 > 12:\n",
    "        hora_12 = hora_24 - 12\n",
    "        periodo = 'P'\n",
    "    else:\n",
    "        hora_12 = hora_24\n",
    "        periodo = 'A'\n",
    "    \n",
    "    return hora_12, minuto_24, periodo\n",
    "\n",
    "def exibir_horario(hora_12, minuto_12, periodo):\n",
    "    print(f'{hora_12}:{minuto_12:02d} {periodo}.M.')\n",
    "\n",
    "def main():\n",
    "    while True:\n",
    "        hora_24 = int(input(\"Digite a hora em formato 24h (0-23): \"))\n",
    "        minuto_24 = int(input(\"Digite os minutos (0-59): \"))\n",
    "        \n",
    "        hora_12, minuto_12, periodo = converter_para_12h(hora_24, minuto_24)\n",
    "        exibir_horario(hora_12, minuto_12, periodo)\n",
    "        \n",
    "        continuar = input(\"Deseja converter outro horário? (s/n): \").lower()\n",
    "        if continuar != 's':\n",
    "            break\n",
    "\n",
    "if __name__ == \"__main__\":\n",
    "    main()"
   ]
  },
  {
   "cell_type": "code",
   "execution_count": 39,
   "id": "785280e9-12c7-455e-beec-0c806200d8f9",
   "metadata": {},
   "outputs": [
    {
     "name": "stdin",
     "output_type": "stream",
     "text": [
      "Digite uma data no formato DD/MM/AAAA:  27/09/2006\n"
     ]
    },
    {
     "name": "stdout",
     "output_type": "stream",
     "text": [
      "Data formatada: 27 de Setembro de 2006\n"
     ]
    }
   ],
   "source": [
    "import datetime\n",
    "\n",
    "def validar_data(data):\n",
    "    try:\n",
    "        datetime.datetime.strptime(data, \"%d/%m/%Y\")\n",
    "        return True\n",
    "    except ValueError:\n",
    "        return False\n",
    "\n",
    "def data_com_mes_por_extenso(data):\n",
    "    if not validar_data(data):\n",
    "        return \"NULL\"\n",
    "    meses = [\n",
    "        \"Janeiro\", \"Fevereiro\", \"Março\", \"Abril\", \"Maio\", \"Junho\",\n",
    "        \"Julho\", \"Agosto\", \"Setembro\", \"Outubro\", \"Novembro\", \"Dezembro\"\n",
    "    ]\n",
    "\n",
    "    dia, mes, ano = map(int, data.split('/'))\n",
    "    \n",
    "    return f\"{dia} de {meses[mes - 1]} de {ano}\"\n",
    "\n",
    "def main():\n",
    "    data = input(\"Digite uma data no formato DD/MM/AAAA: \")\n",
    "    \n",
    "    resultado = data_com_mes_por_extenso(data)\n",
    "    \n",
    "    if resultado == \"NULL\":\n",
    "        print(\"Data inválida.\")\n",
    "    else:\n",
    "        print(\"Data formatada:\", resultado)\n",
    "\n",
    "if __name__ == \"__main__\":\n",
    "    main()"
   ]
  }
 ],
 "metadata": {
  "kernelspec": {
   "display_name": "Python 3 (ipykernel)",
   "language": "python",
   "name": "python3"
  },
  "language_info": {
   "codemirror_mode": {
    "name": "ipython",
    "version": 3
   },
   "file_extension": ".py",
   "mimetype": "text/x-python",
   "name": "python",
   "nbconvert_exporter": "python",
   "pygments_lexer": "ipython3",
   "version": "3.12.7"
  }
 },
 "nbformat": 4,
 "nbformat_minor": 5
}
