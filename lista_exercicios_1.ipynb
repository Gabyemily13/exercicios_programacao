{
 "cells": [
  {
   "cell_type": "code",
   "execution_count": 100,
   "id": "e99813c2-017b-403f-ab2c-9bff8cf0e364",
   "metadata": {},
   "outputs": [
    {
     "name": "stdout",
     "output_type": "stream",
     "text": [
      "[1, 2]\n",
      "[3, 4]\n"
     ]
    }
   ],
   "source": [
    "matriz = [\n",
    "    [1, 2],\n",
    "    [3, 4]\n",
    "]\n",
    "\n",
    "for linha in matriz:\n",
    "    print(linha)\n"
   ]
  },
  {
   "cell_type": "code",
   "execution_count": 107,
   "id": "287f8777-610c-4ded-82b6-6e91fef51d4d",
   "metadata": {},
   "outputs": [
    {
     "name": "stdout",
     "output_type": "stream",
     "text": [
      "Insira o número:  2\n",
      "Insira o número:  3\n",
      "Insira o número:  4\n",
      "Insira o número:  5\n",
      "Insira o número:  6\n",
      "Insira o número:  6\n",
      "Insira o número:  6\n",
      "Insira o número:  6\n",
      "Insira o número:  6\n"
     ]
    },
    {
     "name": "stdout",
     "output_type": "stream",
     "text": [
      "Matriz preenchida:\n",
      "[2, 3, 4]\n",
      "[5, 6, 6]\n",
      "[6, 6, 6]\n"
     ]
    }
   ],
   "source": [
    "matriz = [\n",
    "    [0, 0, 0],\n",
    "    [0, 0, 0],\n",
    "    [0, 0, 0]\n",
    "]\n",
    "\n",
    "for i in range(3):\n",
    "    for j in range(3):\n",
    "        matriz[i][j] = int(input(f'Insira o número para a posição ({i+1}, {j+1}): '))\n",
    "\n",
    "\n",
    "print(\"Matriz preenchida:\")\n",
    "for linha in matriz:\n",
    "    print(linha)\n"
   ]
  },
  {
   "cell_type": "code",
   "execution_count": 109,
   "id": "ca64244f-f8ed-41ab-80f0-6aca21484e9e",
   "metadata": {},
   "outputs": [
    {
     "name": "stdout",
     "output_type": "stream",
     "text": [
      "Insira o número para a posição (1, 1):  1\n",
      "Insira o número para a posição (1, 2):  1\n",
      "Insira o número para a posição (2, 1):  1\n",
      "Insira o número para a posição (2, 2):  1\n",
      "Insira o número para a posição (1, 1):  1\n",
      "Insira o número para a posição (1, 2):  1\n",
      "Insira o número para a posição (2, 1):  1\n",
      "Insira o número para a posição (2, 2):  1\n"
     ]
    },
    {
     "name": "stdout",
     "output_type": "stream",
     "text": [
      "Soma das Matrizes:\n",
      "[2, 2]\n",
      "[2, 2]\n"
     ]
    }
   ],
   "source": [
    "matriz_1 = [\n",
    "    [0, 0],\n",
    "    [0, 0]\n",
    "]\n",
    "\n",
    "for i in range(2):\n",
    "    for j in range(2):\n",
    "         matriz_1[i][j] = int(input(f'Insira o número para a posição ({i+1}, {j+1}): '))\n",
    "\n",
    "matriz_2 = [\n",
    "    [0, 0],\n",
    "    [0, 0]\n",
    "]\n",
    "\n",
    "for i in range(2):\n",
    "    for j in range(2):\n",
    "         matriz_2[i][j] = int(input(f'Insira o número para a posição ({i+1}, {j+1}): '))\n",
    "\n",
    "soma_matrizes = [\n",
    "    [0, 0],\n",
    "    [0, 0]\n",
    "]\n",
    "\n",
    "for i in range(2):\n",
    "    for j in range(2):\n",
    "        soma_matrizes[i][j] = matriz_1[i][j] + matriz_2[i][j]\n",
    "\n",
    "print(\"Soma das Matrizes:\")\n",
    "for linha in soma_matrizes:\n",
    "    print(linha)"
   ]
  },
  {
   "cell_type": "code",
   "execution_count": 112,
   "id": "17f15b2c-b09f-45f8-a094-196f2c1281fb",
   "metadata": {},
   "outputs": [
    {
     "name": "stdout",
     "output_type": "stream",
     "text": [
      "Digite um número:  2\n"
     ]
    },
    {
     "name": "stdout",
     "output_type": "stream",
     "text": [
      "O dobro de 2.0 é 4.0.\n"
     ]
    }
   ],
   "source": [
    "def dobro(numero):\n",
    "    return numero * 2\n",
    "\n",
    "n = float(input(\"Digite um número: \"))\n",
    "resultado = dobro(n)\n",
    "print(f'O dobro de {n} é {resultado}.')\n"
   ]
  },
  {
   "cell_type": "code",
   "execution_count": 116,
   "id": "670a8be9-bfef-4170-85c4-62e6bdf67d79",
   "metadata": {},
   "outputs": [
    {
     "name": "stdout",
     "output_type": "stream",
     "text": [
      "Digite um número:  4\n"
     ]
    },
    {
     "name": "stdout",
     "output_type": "stream",
     "text": [
      "Número par\n"
     ]
    }
   ],
   "source": [
    "def par(numero):\n",
    "    return numero % 2 == 0\n",
    "def impar(numero):\n",
    "    return numero % 2 != 0 \n",
    "numero = float(input(\"Digite um número: \"))\n",
    "if impar(numero):\n",
    "    print('Número impar')\n",
    "elif par(numero):\n",
    "    print('Número par')"
   ]
  },
  {
   "cell_type": "code",
   "execution_count": 124,
   "id": "1174827c-8bb8-419a-b316-9c5774158b68",
   "metadata": {},
   "outputs": [
    {
     "name": "stdout",
     "output_type": "stream",
     "text": [
      "A soma dos números ímpares é: 4\n"
     ]
    }
   ],
   "source": [
    "def par(numero):\n",
    "    return numero % 2 == 0\n",
    "def impar(numero):\n",
    "    return numero % 2 != 0 \n",
    "\n",
    "numero = [1, 2, 3, 4]\n",
    "\n",
    "soma_impares = 0\n",
    "\n",
    "for i in numero:\n",
    "    if impar(i):\n",
    "        soma_impares += i \n",
    "\n",
    "print(f'A soma dos números ímpares é: {soma_impares}')"
   ]
  },
  {
   "cell_type": "code",
   "execution_count": 127,
   "id": "eb373169-caa5-490e-b698-3cea8f1d593b",
   "metadata": {},
   "outputs": [
    {
     "name": "stdout",
     "output_type": "stream",
     "text": [
      "Insira um número:  9\n"
     ]
    },
    {
     "name": "stdout",
     "output_type": "stream",
     "text": [
      "A raiz quadrada de 9 é 3.0\n"
     ]
    }
   ],
   "source": [
    "import math\n",
    "\n",
    "numero = int(input('Insira um número: '))\n",
    "raiz = math.sqrt(numero)\n",
    "\n",
    "print(f'A raiz quadrada de {numero} é {raiz}')\n",
    "\n"
   ]
  },
  {
   "cell_type": "code",
   "execution_count": 147,
   "id": "bb1bc4c7-aa3d-4c7f-b8ac-fe8232255f14",
   "metadata": {},
   "outputs": [
    {
     "name": "stdout",
     "output_type": "stream",
     "text": [
      "Digite uma data no formato dd/mm/aaaa:  23/02/2005\n"
     ]
    },
    {
     "name": "stdout",
     "output_type": "stream",
     "text": [
      "A data 23/02/2005 corresponde a uma Wednesday.\n"
     ]
    }
   ],
   "source": [
    "import datetime\n",
    "\n",
    "data_input = input('Digite uma data no formato dd/mm/aaaa: ')\n",
    "\n",
    "data = datetime.datetime.strptime(data_input, \"%d/%m/%Y\")\n",
    "\n",
    "dia_semana = data.strftime(\"%A\")\n",
    "\n",
    "print(f'A data {data_input} corresponde a uma {dia_semana}.')"
   ]
  },
  {
   "cell_type": "code",
   "execution_count": 146,
   "id": "d243f2ba-8136-49c4-bd09-c83481a12249",
   "metadata": {},
   "outputs": [
    {
     "name": "stdout",
     "output_type": "stream",
     "text": [
      "Insira um número:  100\n"
     ]
    },
    {
     "name": "stdout",
     "output_type": "stream",
     "text": [
      "82\n"
     ]
    }
   ],
   "source": [
    "import random\n",
    "numero = int(input('Insira um número: '))\n",
    "\n",
    "new = random.randint(1, numero)\n",
    "print(new)"
   ]
  },
  {
   "cell_type": "code",
   "execution_count": 161,
   "id": "fcf00df8-7e80-4c96-880e-0ab54133ebef",
   "metadata": {},
   "outputs": [
    {
     "name": "stdout",
     "output_type": "stream",
     "text": [
      "29\n",
      "79\n",
      "73\n",
      "75\n",
      "51\n"
     ]
    }
   ],
   "source": [
    "import random\n",
    "\n",
    "for i in range(5):\n",
    "    new = random.randint(1, 100)\n",
    "    print(new)"
   ]
  },
  {
   "cell_type": "code",
   "execution_count": 2,
   "id": "bd9e0796-7aa5-418f-959c-d6408efce341",
   "metadata": {},
   "outputs": [
    {
     "name": "stdout",
     "output_type": "stream",
     "text": [
      "Insira um número:  1\n",
      "Insira um número:  1\n",
      "Insira um número:  1\n",
      "Insira um número:  1\n",
      "Insira um número:  1\n",
      "Insira um número:  1\n"
     ]
    },
    {
     "name": "stdout",
     "output_type": "stream",
     "text": [
      "[1, 1, 1, 1, 1, 1]\n"
     ]
    }
   ],
   "source": [
    "import time\n",
    "lista = []\n",
    "for i in range(6):\n",
    " numero = int(input('Insira um número: '))\n",
    " lista.append(numero)\n",
    "time.sleep(2) \n",
    "print(lista)"
   ]
  },
  {
   "cell_type": "code",
   "execution_count": 1,
   "id": "d5c30aa8-5bf4-4fd7-a780-a5e45e954afc",
   "metadata": {},
   "outputs": [],
   "source": [
    "with open(\"texto.txt\", \"w\") as arquivo:\n",
    "\n",
    "    arquivo.write(\"Python é incrível!\")"
   ]
  },
  {
   "cell_type": "code",
   "execution_count": 2,
   "id": "1cf9d837-e294-48c1-bf20-6b90a3830022",
   "metadata": {},
   "outputs": [
    {
     "name": "stdout",
     "output_type": "stream",
     "text": [
      "Python é incrível!\n"
     ]
    }
   ],
   "source": [
    "with open(\"texto.txt\", \"r\") as arquivo:\n",
    "    conteudo = arquivo.read()\n",
    "print(conteudo)"
   ]
  },
  {
   "cell_type": "code",
   "execution_count": 5,
   "id": "d970ff70-363c-4732-80ad-cb686198d0d7",
   "metadata": {},
   "outputs": [
    {
     "name": "stdout",
     "output_type": "stream",
     "text": [
      "Digite o nome:  ana\n",
      "Digite o telefone:  234\n"
     ]
    },
    {
     "name": "stdout",
     "output_type": "stream",
     "text": [
      "Contato armazenado com sucesso!\n"
     ]
    }
   ],
   "source": [
    "nome = input(\"Digite o nome: \")\n",
    "telefone = input(\"Digite o telefone: \")\n",
    "\n",
    "with open(\"contatos.txt\", \"a\") as arquivo:\n",
    "\n",
    "    arquivo.write(f\"Nome: {nome}\\n\")\n",
    "    arquivo.write(f\"Telefone: {telefone}\\n\")\n",
    "\n",
    "print(\"Contato armazenado com sucesso!\")\n"
   ]
  },
  {
   "cell_type": "code",
   "execution_count": 21,
   "id": "00e92301-983b-47dc-8b4d-0ff66b657425",
   "metadata": {},
   "outputs": [
    {
     "name": "stdout",
     "output_type": "stream",
     "text": [
      "Digite um número:  3\n"
     ]
    },
    {
     "name": "stdout",
     "output_type": "stream",
     "text": [
      "33.333333333333336\n"
     ]
    }
   ],
   "source": [
    "numero = int(input('Digite um número: '))\n",
    "try:\n",
    "    numero = int(numero)\n",
    "    resultado = 100 / numero\n",
    "    print(f\"{resultado}\")\n",
    "except ZeroDivisionError:\n",
    "    print(\"Erro! Não é possível dividir por zero.\")"
   ]
  },
  {
   "cell_type": "code",
   "execution_count": 23,
   "id": "e0974005-7fa3-4354-823e-23ecba9b77c8",
   "metadata": {},
   "outputs": [
    {
     "name": "stdout",
     "output_type": "stream",
     "text": [
      "Digite um número:  2\n"
     ]
    },
    {
     "name": "stdout",
     "output_type": "stream",
     "text": [
      "O número digitado foi: 2\n"
     ]
    }
   ],
   "source": [
    "entrada = input(\"Digite um número: \")\n",
    "try:\n",
    "    numero = int(entrada)\n",
    "    print(f\"O número digitado foi: {numero}\")\n",
    "except ValueError:\n",
    "    print(\"Erro! Por favor, digite um número válido.\")"
   ]
  },
  {
   "cell_type": "code",
   "execution_count": 26,
   "id": "5259f93c-af43-42f2-8cae-fdb7d1fd7127",
   "metadata": {},
   "outputs": [
    {
     "name": "stdout",
     "output_type": "stream",
     "text": [
      "Digite um número:  5\n"
     ]
    },
    {
     "name": "stdout",
     "output_type": "stream",
     "text": [
      "O número digitado foi: 25\n"
     ]
    }
   ],
   "source": [
    "entrada = input(\"Digite um número: \")\n",
    "try:\n",
    "    numero = int(entrada)\n",
    "    new = numero * numero\n",
    "    print(f\"O número digitado foi: {new}\")\n",
    "except ValueError:\n",
    "    print(\"Erro! Por favor, digite um número válido.\")"
   ]
  }
 ],
 "metadata": {
  "kernelspec": {
   "display_name": "Python 3 (ipykernel)",
   "language": "python",
   "name": "python3"
  },
  "language_info": {
   "codemirror_mode": {
    "name": "ipython",
    "version": 3
   },
   "file_extension": ".py",
   "mimetype": "text/x-python",
   "name": "python",
   "nbconvert_exporter": "python",
   "pygments_lexer": "ipython3",
   "version": "3.13.2"
  }
 },
 "nbformat": 4,
 "nbformat_minor": 5
}
