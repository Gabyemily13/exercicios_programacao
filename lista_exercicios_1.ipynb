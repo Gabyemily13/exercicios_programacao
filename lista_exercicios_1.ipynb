{
 "cells": [
  {
   "cell_type": "code",
   "execution_count": 2,
   "id": "7027b117-49fa-423b-afe1-c90ef3d3f8b3",
   "metadata": {},
   "outputs": [
    {
     "name": "stdin",
     "output_type": "stream",
     "text": [
      "Insira seu nome:  gaby\n"
     ]
    },
    {
     "name": "stdout",
     "output_type": "stream",
     "text": [
      "Bem-Vindo(a) gaby\n"
     ]
    }
   ],
   "source": [
    "nome_usuario = str(input('Insira seu nome: '))\n",
    "print(f'Bem-Vindo(a) {nome_usuario}')"
   ]
  },
  {
   "cell_type": "code",
   "execution_count": 6,
   "id": "9a3b40b8-3362-4b4c-aea9-59fd1b095735",
   "metadata": {},
   "outputs": [
    {
     "name": "stdin",
     "output_type": "stream",
     "text": [
      "Insira a palavra 1:  gaby\n",
      "Insira a palavra 2:  gaby\n"
     ]
    },
    {
     "name": "stdout",
     "output_type": "stream",
     "text": [
      "gaby gaby\n"
     ]
    }
   ],
   "source": [
    "palavra_1 = str(input('Insira a palavra 1: '))\n",
    "palavra_2 = str(input('Insira a palavra 2: '))\n",
    "print(f'{palavra_1} {palavra_2}')"
   ]
  },
  {
   "cell_type": "code",
   "execution_count": 10,
   "id": "c8506857-debd-40a2-a0ad-5461b685c106",
   "metadata": {},
   "outputs": [
    {
     "name": "stdin",
     "output_type": "stream",
     "text": [
      "Insira uma frase:  gaby a gaby\n"
     ]
    },
    {
     "name": "stdout",
     "output_type": "stream",
     "text": [
      "Essa frase contém 3 palavras\n"
     ]
    }
   ],
   "source": [
    "frase = str(input('Insira uma frase: '))\n",
    "print(f'Essa frase contém {len(frase.split())} palavras')"
   ]
  },
  {
   "cell_type": "code",
   "execution_count": 12,
   "id": "ce3fb41a-d3d2-4df0-b909-aafad2b3f2f7",
   "metadata": {},
   "outputs": [
    {
     "name": "stdin",
     "output_type": "stream",
     "text": [
      "Insira numero 1:  3\n",
      "Insira numero 2:  3\n"
     ]
    },
    {
     "name": "stdout",
     "output_type": "stream",
     "text": [
      "A soma do 3.0 + 3.0 é igual a 6.0\n"
     ]
    }
   ],
   "source": [
    "numero_1 = float(input('Insira numero 1: '))\n",
    "numero_2 = float(input('Insira numero 2: '))\n",
    "print(f'A soma do {numero_1} + {numero_2} é igual a {numero_1 + numero_2}')"
   ]
  },
  {
   "cell_type": "code",
   "execution_count": 13,
   "id": "d0e693da-cbfb-4448-afbe-ca7bff2369cf",
   "metadata": {},
   "outputs": [
    {
     "name": "stdin",
     "output_type": "stream",
     "text": [
      "Insira numero 1:  3\n",
      "Insira numero 2:  3\n",
      "Insira numero 3:  3\n"
     ]
    },
    {
     "name": "stdout",
     "output_type": "stream",
     "text": [
      "A média é: 3.0\n"
     ]
    }
   ],
   "source": [
    "numero_1 = float(input('Insira numero 1: '))\n",
    "numero_2 = float(input('Insira numero 2: '))\n",
    "numero_3 = float(input('Insira numero 3: '))\n",
    "\n",
    "media = (numero_1 + numero_2 + numero_3) / 3\n",
    "\n",
    "print(f'A média é: {media}')"
   ]
  },
  {
   "cell_type": "code",
   "execution_count": 16,
   "id": "6915fdad-d98b-4252-ab03-a2d1df35d18f",
   "metadata": {},
   "outputs": [
    {
     "name": "stdin",
     "output_type": "stream",
     "text": [
      "Insira numero 1:  1\n",
      "Insira numero 2:  2\n",
      "Insira numero 3:  3\n"
     ]
    },
    {
     "name": "stdout",
     "output_type": "stream",
     "text": [
      "O maior é: 3.0\n",
      "O menor é: 1.0\n"
     ]
    }
   ],
   "source": [
    "numero_1 = float(input('Insira numero 1: '))\n",
    "numero_2 = float(input('Insira numero 2: '))\n",
    "numero_3 = float(input('Insira numero 3: '))\n",
    "\n",
    "menor = min(numero_1, numero_2, numero_3)\n",
    "maior = max(numero_1, numero_2, numero_3)\n",
    "\n",
    "print(f'O maior é: {maior}')\n",
    "print(f'O menor é: {menor}')"
   ]
  },
  {
   "cell_type": "code",
   "execution_count": 21,
   "id": "84b67c5c-486d-455e-8ba5-59b5514c3082",
   "metadata": {},
   "outputs": [
    {
     "name": "stdin",
     "output_type": "stream",
     "text": [
      "Insira um numero:  1\n"
     ]
    },
    {
     "name": "stdout",
     "output_type": "stream",
     "text": [
      "Esse número é menor do que 100\n"
     ]
    }
   ],
   "source": [
    "numero = float(input('Insira um numero: '))\n",
    "\n",
    "if numero < 100:\n",
    "    print('Esse número é menor do que 100')\n",
    "elif numero == 100:\n",
    "    print('Esse número é igual a 100')\n",
    "elif numero > 100:\n",
    "    print('Esse número é maior do que 100')"
   ]
  },
  {
   "cell_type": "code",
   "execution_count": 32,
   "id": "ef7597ca-086b-40bf-b890-9e45e685f2bf",
   "metadata": {},
   "outputs": [
    {
     "name": "stdin",
     "output_type": "stream",
     "text": [
      "Insira numero 1:  1\n",
      "Insira numero 2:  1\n"
     ]
    },
    {
     "name": "stdout",
     "output_type": "stream",
     "text": [
      "Os números são iguais\n"
     ]
    }
   ],
   "source": [
    "numero_1 = float(input('Insira numero 1: '))\n",
    "numero_2 = float(input('Insira numero 2: '))\n",
    "\n",
    "if numero_1 == numero_2:\n",
    "    print('Os números são iguais')\n",
    "else:\n",
    "    maior = max(numero_1, numero_2)\n",
    "    print(f'O maior número é: {maior}')"
   ]
  },
  {
   "cell_type": "code",
   "execution_count": 33,
   "id": "424b7f1a-5255-4927-af80-9970822fa07d",
   "metadata": {},
   "outputs": [
    {
     "name": "stdin",
     "output_type": "stream",
     "text": [
      "Insira número 1:  1\n",
      "Insira número 2:  2\n",
      "Insira número 3:  3\n"
     ]
    },
    {
     "name": "stdout",
     "output_type": "stream",
     "text": [
      "Não pode formar um triângulo\n"
     ]
    }
   ],
   "source": [
    "lado_1 = float(input('Insira número 1: '))\n",
    "lado_2 = float(input('Insira número 2: '))\n",
    "lado_3 = float(input('Insira número 3: '))\n",
    "\n",
    "# Verificando se a soma de dois lados é maior que o terceiro\n",
    "if lado_1 + lado_2 > lado_3 and lado_1 + lado_3 > lado_2 and lado_2 + lado_3 > lado_1:\n",
    "    print('Pode formar um triângulo')\n",
    "else:\n",
    "    print('Não pode formar um triângulo')\n"
   ]
  },
  {
   "cell_type": "code",
   "execution_count": 48,
   "id": "f74982bf-e6bd-4e3f-a2f0-8a290f068d26",
   "metadata": {},
   "outputs": [
    {
     "name": "stdin",
     "output_type": "stream",
     "text": [
      "Insira um número:  2\n"
     ]
    },
    {
     "name": "stdout",
     "output_type": "stream",
     "text": [
      "2.0\n",
      "4.0\n",
      "6.0\n",
      "8.0\n",
      "10.0\n",
      "12.0\n",
      "14.0\n",
      "16.0\n",
      "18.0\n",
      "20.0\n"
     ]
    }
   ],
   "source": [
    "numero = float(input('Insira um número: '))\n",
    "\n",
    "for i in range(1, 11):\n",
    "    new = numero * i\n",
    "    \n",
    "    print(f'{new}')"
   ]
  },
  {
   "cell_type": "code",
   "execution_count": 50,
   "id": "41fa71d7-17f4-435f-8c70-c36ea1385fdb",
   "metadata": {},
   "outputs": [
    {
     "name": "stdin",
     "output_type": "stream",
     "text": [
      "Insira um número inteiro:  6\n"
     ]
    },
    {
     "name": "stdout",
     "output_type": "stream",
     "text": [
      "Divisores: \n",
      "1\n",
      "2\n",
      "3\n",
      "6\n"
     ]
    }
   ],
   "source": [
    "numero = int(input('Insira um número inteiro: '))\n",
    "\n",
    "print(f'Divisores: ')\n",
    "for i in range(1, numero + 1):\n",
    "    if numero % i == 0:\n",
    "        print(i)\n"
   ]
  },
  {
   "cell_type": "code",
   "execution_count": 64,
   "id": "822b387f-9036-40df-aa06-13192d88fffb",
   "metadata": {},
   "outputs": [
    {
     "name": "stdin",
     "output_type": "stream",
     "text": [
      "Insira um número:  4\n"
     ]
    },
    {
     "name": "stdout",
     "output_type": "stream",
     "text": [
      "Número não primo\n"
     ]
    }
   ],
   "source": [
    "numero = int(input('Insira um número: '))\n",
    "\n",
    "if numero <= 1:\n",
    "    print('Número não primo')\n",
    "else:\n",
    "    for i in range(2, numero):\n",
    "        if numero % i == 0:\n",
    "            print('Número não primo')\n",
    "            break\n",
    "    else:\n",
    "        print('Número primo')\n"
   ]
  },
  {
   "cell_type": "code",
   "execution_count": 75,
   "id": "ee7a24a1-c0e3-493f-8766-215c352e01fc",
   "metadata": {},
   "outputs": [
    {
     "name": "stdin",
     "output_type": "stream",
     "text": [
      "Insira um número:  5\n"
     ]
    },
    {
     "name": "stdout",
     "output_type": "stream",
     "text": [
      "5\n",
      "4\n",
      "3\n",
      "2\n",
      "1\n",
      "0\n"
     ]
    }
   ],
   "source": [
    "numero = int(input('Insira um número: '))\n",
    "\n",
    "for i in range(numero, -1, -1):\n",
    "    print(i)\n"
   ]
  },
  {
   "cell_type": "code",
   "execution_count": 74,
   "id": "7185b420-2168-4904-9669-efaba118c1b8",
   "metadata": {},
   "outputs": [
    {
     "name": "stdin",
     "output_type": "stream",
     "text": [
      "Insira um número:  50\n"
     ]
    },
    {
     "name": "stdout",
     "output_type": "stream",
     "text": [
      "1275\n"
     ]
    }
   ],
   "source": [
    "numero = int(input('Insira um número: '))\n",
    "\n",
    "soma = 0\n",
    "for i in range(1, numero + 1):\n",
    "    soma += i\n",
    "\n",
    "print(f'{soma}')\n"
   ]
  },
  {
   "cell_type": "code",
   "execution_count": 80,
   "id": "233f6114-534c-4c7b-b927-560dbf838d70",
   "metadata": {},
   "outputs": [
    {
     "name": "stdin",
     "output_type": "stream",
     "text": [
      "Insira um número:  3\n"
     ]
    },
    {
     "name": "stdout",
     "output_type": "stream",
     "text": [
      "O fatorial de 3 é 6\n"
     ]
    }
   ],
   "source": [
    "import math\n",
    "\n",
    "numero = int(input('Insira um número: '))\n",
    "fatorial = math.factorial(numero)\n",
    "\n",
    "print(f'O fatorial de {numero} é {fatorial}')\n",
    "\n"
   ]
  },
  {
   "cell_type": "code",
   "execution_count": 83,
   "id": "058b176d-67a3-40f6-bc1f-72550d086cc3",
   "metadata": {},
   "outputs": [
    {
     "name": "stdout",
     "output_type": "stream",
     "text": [
      "Rosa\n"
     ]
    }
   ],
   "source": [
    "cores = ['Azul', 'Roxo', 'Rosa', 'Amarelo', 'Vermelho']\n",
    "\n",
    "print(cores[2])"
   ]
  },
  {
   "cell_type": "code",
   "execution_count": 94,
   "id": "ef15f310-7618-41d6-a394-bdbc0f526449",
   "metadata": {},
   "outputs": [
    {
     "name": "stdin",
     "output_type": "stream",
     "text": [
      "Insira número 1:  2\n",
      "Insira número 2:  7\n",
      "Insira número 3:  1\n",
      "Insira número 4:  6\n",
      "Insira número 5:  3\n"
     ]
    },
    {
     "name": "stdout",
     "output_type": "stream",
     "text": [
      "[[1.0, 2.0, 3.0, 6.0, 7.0]]\n"
     ]
    }
   ],
   "source": [
    "lista = []\n",
    "\n",
    "n_1 = float(input('Insira número 1: '))\n",
    "n_2 = float(input('Insira número 2: '))\n",
    "n_3 = float(input('Insira número 3: '))\n",
    "n_4 = float(input('Insira número 4: '))\n",
    "n_5 = float(input('Insira número 5: '))\n",
    "\n",
    "numeros = [n_1, n_2, n_3, n_4, n_5]\n",
    "\n",
    "numeros_ordenados = sorted(numeros)\n",
    "\n",
    "lista.append(numeros_ordenados)\n",
    "\n",
    "print(lista)\n",
    "\n"
   ]
  },
  {
   "cell_type": "code",
   "execution_count": 96,
   "id": "152c25ad-d0e8-4919-a765-fc00519a60f4",
   "metadata": {},
   "outputs": [
    {
     "name": "stdin",
     "output_type": "stream",
     "text": [
      "Digite o nome da pessoa para consultar a idade:  Maria\n"
     ]
    },
    {
     "name": "stdout",
     "output_type": "stream",
     "text": [
      "A idade de Maria é 30 anos.\n"
     ]
    }
   ],
   "source": [
    "idades = {\n",
    "    'João': 25,\n",
    "    'Maria': 30,\n",
    "    'Pedro': 22\n",
    "}\n",
    "\n",
    "nome = input('Digite o nome da pessoa para consultar a idade: ')\n",
    "\n",
    "if nome in idades:\n",
    "    print(f'A idade de {nome} é {idades[nome]} anos.')\n",
    "else:\n",
    "    print('Nome não encontrado no dicionário.')\n"
   ]
  },
  {
   "cell_type": "code",
   "execution_count": 100,
   "id": "e99813c2-017b-403f-ab2c-9bff8cf0e364",
   "metadata": {},
   "outputs": [
    {
     "name": "stdout",
     "output_type": "stream",
     "text": [
      "[1, 2]\n",
      "[3, 4]\n"
     ]
    }
   ],
   "source": [
    "matriz = [\n",
    "    [1, 2],\n",
    "    [3, 4]\n",
    "]\n",
    "\n",
    "for linha in matriz:\n",
    "    print(linha)\n"
   ]
  },
  {
   "cell_type": "code",
   "execution_count": 107,
   "id": "287f8777-610c-4ded-82b6-6e91fef51d4d",
   "metadata": {},
   "outputs": [
    {
     "name": "stdin",
     "output_type": "stream",
     "text": [
      "Insira o número:  2\n",
      "Insira o número:  3\n",
      "Insira o número:  4\n",
      "Insira o número:  5\n",
      "Insira o número:  6\n",
      "Insira o número:  6\n",
      "Insira o número:  6\n",
      "Insira o número:  6\n",
      "Insira o número:  6\n"
     ]
    },
    {
     "name": "stdout",
     "output_type": "stream",
     "text": [
      "Matriz preenchida:\n",
      "[2, 3, 4]\n",
      "[5, 6, 6]\n",
      "[6, 6, 6]\n"
     ]
    }
   ],
   "source": [
    "matriz = [\n",
    "    [0, 0, 0],\n",
    "    [0, 0, 0],\n",
    "    [0, 0, 0]\n",
    "]\n",
    "\n",
    "for i in range(3):\n",
    "    for j in range(3):\n",
    "        matriz[i][j] = int(input(f'Insira o número para a posição ({i+1}, {j+1}): '))\n",
    "\n",
    "\n",
    "print(\"Matriz preenchida:\")\n",
    "for linha in matriz:\n",
    "    print(linha)\n"
   ]
  },
  {
   "cell_type": "code",
   "execution_count": 109,
   "id": "ca64244f-f8ed-41ab-80f0-6aca21484e9e",
   "metadata": {},
   "outputs": [
    {
     "name": "stdin",
     "output_type": "stream",
     "text": [
      "Insira o número para a posição (1, 1):  1\n",
      "Insira o número para a posição (1, 2):  1\n",
      "Insira o número para a posição (2, 1):  1\n",
      "Insira o número para a posição (2, 2):  1\n",
      "Insira o número para a posição (1, 1):  1\n",
      "Insira o número para a posição (1, 2):  1\n",
      "Insira o número para a posição (2, 1):  1\n",
      "Insira o número para a posição (2, 2):  1\n"
     ]
    },
    {
     "name": "stdout",
     "output_type": "stream",
     "text": [
      "Soma das Matrizes:\n",
      "[2, 2]\n",
      "[2, 2]\n"
     ]
    }
   ],
   "source": [
    "matriz_1 = [\n",
    "    [0, 0],\n",
    "    [0, 0]\n",
    "]\n",
    "\n",
    "for i in range(2):\n",
    "    for j in range(2):\n",
    "         matriz_1[i][j] = int(input(f'Insira o número para a posição ({i+1}, {j+1}): '))\n",
    "\n",
    "matriz_2 = [\n",
    "    [0, 0],\n",
    "    [0, 0]\n",
    "]\n",
    "\n",
    "for i in range(2):\n",
    "    for j in range(2):\n",
    "         matriz_2[i][j] = int(input(f'Insira o número para a posição ({i+1}, {j+1}): '))\n",
    "\n",
    "soma_matrizes = [\n",
    "    [0, 0],\n",
    "    [0, 0]\n",
    "]\n",
    "\n",
    "for i in range(2):\n",
    "    for j in range(2):\n",
    "        soma_matrizes[i][j] = matriz_1[i][j] + matriz_2[i][j]\n",
    "\n",
    "print(\"Soma das Matrizes:\")\n",
    "for linha in soma_matrizes:\n",
    "    print(linha)"
   ]
  },
  {
   "cell_type": "code",
   "execution_count": 112,
   "id": "17f15b2c-b09f-45f8-a094-196f2c1281fb",
   "metadata": {},
   "outputs": [
    {
     "name": "stdin",
     "output_type": "stream",
     "text": [
      "Digite um número:  2\n"
     ]
    },
    {
     "name": "stdout",
     "output_type": "stream",
     "text": [
      "O dobro de 2.0 é 4.0.\n"
     ]
    }
   ],
   "source": [
    "def dobro(numero):\n",
    "    return numero * 2\n",
    "\n",
    "n = float(input(\"Digite um número: \"))\n",
    "resultado = dobro(n)\n",
    "print(f'O dobro de {n} é {resultado}.')\n"
   ]
  },
  {
   "cell_type": "code",
   "execution_count": 116,
   "id": "670a8be9-bfef-4170-85c4-62e6bdf67d79",
   "metadata": {},
   "outputs": [
    {
     "name": "stdin",
     "output_type": "stream",
     "text": [
      "Digite um número:  4\n"
     ]
    },
    {
     "name": "stdout",
     "output_type": "stream",
     "text": [
      "Número par\n"
     ]
    }
   ],
   "source": [
    "def par(numero):\n",
    "    return numero % 2 == 0\n",
    "def impar(numero):\n",
    "    return numero % 2 != 0 \n",
    "numero = float(input(\"Digite um número: \"))\n",
    "if impar(numero):\n",
    "    print('Número impar')\n",
    "elif par(numero):\n",
    "    print('Número par')"
   ]
  },
  {
   "cell_type": "code",
   "execution_count": 124,
   "id": "1174827c-8bb8-419a-b316-9c5774158b68",
   "metadata": {},
   "outputs": [
    {
     "name": "stdout",
     "output_type": "stream",
     "text": [
      "A soma dos números ímpares é: 4\n"
     ]
    }
   ],
   "source": [
    "def par(numero):\n",
    "    return numero % 2 == 0\n",
    "def impar(numero):\n",
    "    return numero % 2 != 0 \n",
    "\n",
    "numero = [1, 2, 3, 4]\n",
    "\n",
    "soma_impares = 0\n",
    "\n",
    "for i in numero:\n",
    "    if impar(i):\n",
    "        soma_impares += i \n",
    "\n",
    "print(f'A soma dos números ímpares é: {soma_impares}')"
   ]
  },
  {
   "cell_type": "code",
   "execution_count": 127,
   "id": "eb373169-caa5-490e-b698-3cea8f1d593b",
   "metadata": {},
   "outputs": [
    {
     "name": "stdin",
     "output_type": "stream",
     "text": [
      "Insira um número:  9\n"
     ]
    },
    {
     "name": "stdout",
     "output_type": "stream",
     "text": [
      "A raiz quadrada de 9 é 3.0\n"
     ]
    }
   ],
   "source": [
    "import math\n",
    "\n",
    "numero = int(input('Insira um número: '))\n",
    "raiz = math.sqrt(numero)\n",
    "\n",
    "print(f'A raiz quadrada de {numero} é {raiz}')\n",
    "\n"
   ]
  },
  {
   "cell_type": "code",
   "execution_count": 147,
   "id": "bb1bc4c7-aa3d-4c7f-b8ac-fe8232255f14",
   "metadata": {},
   "outputs": [
    {
     "name": "stdin",
     "output_type": "stream",
     "text": [
      "Digite uma data no formato dd/mm/aaaa:  23/02/2005\n"
     ]
    },
    {
     "name": "stdout",
     "output_type": "stream",
     "text": [
      "A data 23/02/2005 corresponde a uma Wednesday.\n"
     ]
    }
   ],
   "source": [
    "import datetime\n",
    "\n",
    "data_input = input('Digite uma data no formato dd/mm/aaaa: ')\n",
    "\n",
    "data = datetime.datetime.strptime(data_input, \"%d/%m/%Y\")\n",
    "\n",
    "dia_semana = data.strftime(\"%A\")\n",
    "\n",
    "print(f'A data {data_input} corresponde a uma {dia_semana}.')"
   ]
  },
  {
   "cell_type": "code",
   "execution_count": 146,
   "id": "d243f2ba-8136-49c4-bd09-c83481a12249",
   "metadata": {},
   "outputs": [
    {
     "name": "stdin",
     "output_type": "stream",
     "text": [
      "Insira um número:  100\n"
     ]
    },
    {
     "name": "stdout",
     "output_type": "stream",
     "text": [
      "82\n"
     ]
    }
   ],
   "source": [
    "import random\n",
    "numero = int(input('Insira um número: '))\n",
    "\n",
    "new = random.randint(1, numero)\n",
    "print(new)"
   ]
  },
  {
   "cell_type": "code",
   "execution_count": 161,
   "id": "fcf00df8-7e80-4c96-880e-0ab54133ebef",
   "metadata": {},
   "outputs": [
    {
     "name": "stdout",
     "output_type": "stream",
     "text": [
      "29\n",
      "79\n",
      "73\n",
      "75\n",
      "51\n"
     ]
    }
   ],
   "source": [
    "import random\n",
    "\n",
    "for i in range(5):\n",
    "    new = random.randint(1, 100)\n",
    "    print(new)"
   ]
  },
  {
   "cell_type": "code",
   "execution_count": 2,
   "id": "bd9e0796-7aa5-418f-959c-d6408efce341",
   "metadata": {},
   "outputs": [
    {
     "name": "stdin",
     "output_type": "stream",
     "text": [
      "Insira um número:  1\n",
      "Insira um número:  1\n",
      "Insira um número:  1\n",
      "Insira um número:  1\n",
      "Insira um número:  1\n",
      "Insira um número:  1\n"
     ]
    },
    {
     "name": "stdout",
     "output_type": "stream",
     "text": [
      "[1, 1, 1, 1, 1, 1]\n"
     ]
    }
   ],
   "source": [
    "import time\n",
    "lista = []\n",
    "for i in range(6):\n",
    " numero = int(input('Insira um número: '))\n",
    " lista.append(numero)\n",
    "time.sleep(2) \n",
    "print(lista)"
   ]
  },
  {
   "cell_type": "code",
   "execution_count": 1,
   "id": "d5c30aa8-5bf4-4fd7-a780-a5e45e954afc",
   "metadata": {},
   "outputs": [],
   "source": [
    "with open(\"texto.txt\", \"w\") as arquivo:\n",
    "\n",
    "    arquivo.write(\"Python é incrível!\")"
   ]
  },
  {
   "cell_type": "code",
   "execution_count": 2,
   "id": "1cf9d837-e294-48c1-bf20-6b90a3830022",
   "metadata": {},
   "outputs": [
    {
     "name": "stdout",
     "output_type": "stream",
     "text": [
      "Python é incrível!\n"
     ]
    }
   ],
   "source": [
    "with open(\"texto.txt\", \"r\") as arquivo:\n",
    "    conteudo = arquivo.read()\n",
    "print(conteudo)"
   ]
  },
  {
   "cell_type": "code",
   "execution_count": 5,
   "id": "d970ff70-363c-4732-80ad-cb686198d0d7",
   "metadata": {},
   "outputs": [
    {
     "name": "stdin",
     "output_type": "stream",
     "text": [
      "Digite o nome:  ana\n",
      "Digite o telefone:  234\n"
     ]
    },
    {
     "name": "stdout",
     "output_type": "stream",
     "text": [
      "Contato armazenado com sucesso!\n"
     ]
    }
   ],
   "source": [
    "nome = input(\"Digite o nome: \")\n",
    "telefone = input(\"Digite o telefone: \")\n",
    "\n",
    "with open(\"contatos.txt\", \"a\") as arquivo:\n",
    "\n",
    "    arquivo.write(f\"Nome: {nome}\\n\")\n",
    "    arquivo.write(f\"Telefone: {telefone}\\n\")\n",
    "\n",
    "print(\"Contato armazenado com sucesso!\")\n"
   ]
  },
  {
   "cell_type": "code",
   "execution_count": 21,
   "id": "00e92301-983b-47dc-8b4d-0ff66b657425",
   "metadata": {},
   "outputs": [
    {
     "name": "stdin",
     "output_type": "stream",
     "text": [
      "Digite um número:  3\n"
     ]
    },
    {
     "name": "stdout",
     "output_type": "stream",
     "text": [
      "33.333333333333336\n"
     ]
    }
   ],
   "source": [
    "numero = int(input('Digite um número: '))\n",
    "try:\n",
    "    numero = int(numero)\n",
    "    resultado = 100 / numero\n",
    "    print(f\"{resultado}\")\n",
    "except ZeroDivisionError:\n",
    "    print(\"Erro! Não é possível dividir por zero.\")"
   ]
  },
  {
   "cell_type": "code",
   "execution_count": 23,
   "id": "e0974005-7fa3-4354-823e-23ecba9b77c8",
   "metadata": {},
   "outputs": [
    {
     "name": "stdin",
     "output_type": "stream",
     "text": [
      "Digite um número:  2\n"
     ]
    },
    {
     "name": "stdout",
     "output_type": "stream",
     "text": [
      "O número digitado foi: 2\n"
     ]
    }
   ],
   "source": [
    "entrada = input(\"Digite um número: \")\n",
    "try:\n",
    "    numero = int(entrada)\n",
    "    print(f\"O número digitado foi: {numero}\")\n",
    "except ValueError:\n",
    "    print(\"Erro! Por favor, digite um número válido.\")"
   ]
  },
  {
   "cell_type": "code",
   "execution_count": 26,
   "id": "5259f93c-af43-42f2-8cae-fdb7d1fd7127",
   "metadata": {},
   "outputs": [
    {
     "name": "stdin",
     "output_type": "stream",
     "text": [
      "Digite um número:  5\n"
     ]
    },
    {
     "name": "stdout",
     "output_type": "stream",
     "text": [
      "O número digitado foi: 25\n"
     ]
    }
   ],
   "source": [
    "entrada = input(\"Digite um número: \")\n",
    "try:\n",
    "    numero = int(entrada)\n",
    "    new = numero * numero\n",
    "    print(f\"O número digitado foi: {new}\")\n",
    "except ValueError:\n",
    "    print(\"Erro! Por favor, digite um número válido.\")"
   ]
  }
 ],
 "metadata": {
  "kernelspec": {
   "display_name": "Python 3 (ipykernel)",
   "language": "python",
   "name": "python3"
  },
  "language_info": {
   "codemirror_mode": {
    "name": "ipython",
    "version": 3
   },
   "file_extension": ".py",
   "mimetype": "text/x-python",
   "name": "python",
   "nbconvert_exporter": "python",
   "pygments_lexer": "ipython3",
   "version": "3.13.2"
  }
 },
 "nbformat": 4,
 "nbformat_minor": 5
}
